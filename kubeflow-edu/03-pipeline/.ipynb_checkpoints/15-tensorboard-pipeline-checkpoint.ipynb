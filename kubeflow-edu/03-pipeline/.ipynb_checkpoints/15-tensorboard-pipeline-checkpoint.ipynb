{
 "cells": [
  {
   "cell_type": "code",
   "execution_count": 2,
   "metadata": {},
   "outputs": [
    {
     "data": {
      "text/html": [
       "Experiment link <a href=\"/pipeline/#/experiments/details/2d960b93-3273-4d91-bf1c-59b6153fe949\" target=\"_blank\" >here</a>"
      ],
      "text/plain": [
       "<IPython.core.display.HTML object>"
      ]
     },
     "metadata": {},
     "output_type": "display_data"
    },
    {
     "data": {
      "text/html": [
       "Run link <a href=\"/pipeline/#/runs/details/96f29797-4ee3-444a-87ac-ba943ea2b730\" target=\"_blank\" >here</a>"
      ],
      "text/plain": [
       "<IPython.core.display.HTML object>"
      ]
     },
     "metadata": {},
     "output_type": "display_data"
    }
   ],
   "source": [
    "import kfp\n",
    "import kfp.dsl as dsl\n",
    "import kfp.onprem as onprem\n",
    "import kfp.components as comp\n",
    "\n",
    "# for tensorboard\n",
    "from kubernetes.client.models import V1EnvVar\n",
    "    \n",
    "@dsl.pipeline(\n",
    "    name='tensorboardPipeline',\n",
    "    description='tensorboard'\n",
    ")\n",
    "\n",
    "def tensorboard_pipeline(tb_log_dir):\n",
    "    \n",
    "    s3_endpoint = 'minio-service.kubeflow.svc.cluster.local:9000'\n",
    "    minio_endpoint = \"http://\" + s3_endpoint\n",
    "    minio_username = \"minio\"\n",
    "    minio_key = \"minio123\"\n",
    "    minio_region = \"us-east-1\" \n",
    "\n",
    "    vop = dsl.VolumeOp(\n",
    "        name=\"volume_creation\",\n",
    "        resource_name=\"vol-a\",\n",
    "        # storage_class=\"nfs-client\", # here\n",
    "        modes=dsl.VOLUME_MODE_RWO,\n",
    "        size=\"1Gi\"\n",
    "    )\n",
    "    \n",
    "    cop1 = dsl.ContainerOp(\n",
    "        name='tensorboard',\n",
    "        image='kubeflow-registry.default.svc.cluster.local:30000/tensorboard-job:25481222', # here 2A02B8E3 about tensorboard image\n",
    "        command=['python', '/app/14-tensorboard-fairing.py'],\n",
    "        arguments=['--tb_log_dir', tb_log_dir],\n",
    "        output_artifact_paths={'mlpipeline-ui-metadata': '/mlpipeline-ui-metadata.json'}\n",
    "    ).add_env_variable(V1EnvVar(name='S3_ENDPOINT', value=s3_endpoint))\\\n",
    "     .add_env_variable(V1EnvVar(name='AWS_ENDPOINT_URL', value=minio_endpoint))\\\n",
    "     .add_env_variable(V1EnvVar(name='AWS_ACCESS_KEY_ID', value=minio_username))\\\n",
    "     .add_env_variable(V1EnvVar(name='AWS_SECRET_ACCESS_KEY', value=minio_key))\\\n",
    "     .add_env_variable(V1EnvVar(name='AWS_REGION', value=minio_region))\\\n",
    "     .add_env_variable(V1EnvVar(name='S3_USE_HTTPS', value='0'))\\\n",
    "     .add_env_variable(V1EnvVar(name='S3_VERIFY_SSL', value='0'))\n",
    "    \n",
    "    cop1.after(vop)\n",
    "\n",
    "if __name__ == '__main__':\n",
    "    arguments = {'tb_log_dir': 's3://tensorboard/mnist02/'} # here \n",
    "    my_run = kfp.Client().create_run_from_pipeline_func(tensorboard_pipeline, arguments=arguments, experiment_name='tensorboard Experiment')"
   ]
  },
  {
   "cell_type": "code",
   "execution_count": null,
   "metadata": {},
   "outputs": [],
   "source": []
  }
 ],
 "metadata": {
  "kernelspec": {
   "display_name": "Python 3",
   "language": "python",
   "name": "python3"
  },
  "language_info": {
   "codemirror_mode": {
    "name": "ipython",
    "version": 3
   },
   "file_extension": ".py",
   "mimetype": "text/x-python",
   "name": "python",
   "nbconvert_exporter": "python",
   "pygments_lexer": "ipython3",
   "version": "3.6.8"
  }
 },
 "nbformat": 4,
 "nbformat_minor": 4
}
