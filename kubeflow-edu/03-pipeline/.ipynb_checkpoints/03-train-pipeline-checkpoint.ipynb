{
 "cells": [
  {
   "cell_type": "code",
   "execution_count": 9,
   "metadata": {},
   "outputs": [
    {
     "data": {
      "text/html": [
       "Experiment link <a href=\"/pipeline/#/experiments/details/f7b9ac9d-b042-41a1-984a-6cdac78a81b9\" target=\"_blank\" >here</a>"
      ],
      "text/plain": [
       "<IPython.core.display.HTML object>"
      ]
     },
     "metadata": {},
     "output_type": "display_data"
    },
    {
     "data": {
      "text/html": [
       "Run link <a href=\"/pipeline/#/runs/details/6576a1b2-a764-4e91-93a8-de688eaf8999\" target=\"_blank\" >here</a>"
      ],
      "text/plain": [
       "<IPython.core.display.HTML object>"
      ]
     },
     "metadata": {},
     "output_type": "display_data"
    }
   ],
   "source": [
    "import kfp\n",
    "import kfp.dsl as dsl\n",
    "import kfp.onprem as onprem\n",
    "import kfp.components as comp\n",
    "\n",
    "# for tensorboard\n",
    "from kubernetes.client.models import V1EnvVar\n",
    "    \n",
    "@dsl.pipeline(\n",
    "    name='tensorboardPipeline',\n",
    "    description='tensorboard'\n",
    ")\n",
    "\n",
    "def tensorboard_pipeline(tb_log_dir):\n",
    "\n",
    "    vop = dsl.VolumeOp(\n",
    "        name=\"volume_creation\",\n",
    "        resource_name=\"vol-a\",\n",
    "        storage_class=\"nfs-client\", # here\n",
    "        modes=dsl.VOLUME_MODE_RWO,\n",
    "        size=\"1Gi\"\n",
    "    )\n",
    "    \n",
    "    cop1 = dsl.ContainerOp(\n",
    "        name='tensorboard',\n",
    "        image='kubeflow-registry.default.svc.cluster.local:30000/tensorboard-job:2F310C08',  # here\n",
    "        command=['python', '/app/02-train-fairing.py']\n",
    "    )\n",
    "    \n",
    "    cop1.after(vop) # pipeline code\n",
    "\n",
    "if __name__ == '__main__':\n",
    "    arguments = {'tb_log_dir': 's3://tensorboard/mnist01/'}\n",
    "    my_run = kfp.Client().create_run_from_pipeline_func(tensorboard_pipeline, arguments=arguments, experiment_name='tensorboard Experiment')"
   ]
  },
  {
   "cell_type": "code",
   "execution_count": null,
   "metadata": {},
   "outputs": [],
   "source": []
  }
 ],
 "metadata": {
  "kernelspec": {
   "display_name": "Python 3",
   "language": "python",
   "name": "python3"
  },
  "language_info": {
   "codemirror_mode": {
    "name": "ipython",
    "version": 3
   },
   "file_extension": ".py",
   "mimetype": "text/x-python",
   "name": "python",
   "nbconvert_exporter": "python",
   "pygments_lexer": "ipython3",
   "version": "3.6.8"
  }
 },
 "nbformat": 4,
 "nbformat_minor": 4
}
