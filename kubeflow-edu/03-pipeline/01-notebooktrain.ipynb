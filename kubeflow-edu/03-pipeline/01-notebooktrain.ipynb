{
 "cells": [
  {
   "cell_type": "code",
   "execution_count": 2,
   "metadata": {},
   "outputs": [
    {
     "name": "stdout",
     "output_type": "stream",
     "text": [
      "TensorFlow version:  2.0.0\n",
      "Model: \"sequential_1\"\n",
      "_________________________________________________________________\n",
      "Layer (type)                 Output Shape              Param #   \n",
      "=================================================================\n",
      "flatten_1 (Flatten)          (None, 784)               0         \n",
      "_________________________________________________________________\n",
      "dense_2 (Dense)              (None, 128)               100480    \n",
      "_________________________________________________________________\n",
      "dropout_1 (Dropout)          (None, 128)               0         \n",
      "_________________________________________________________________\n",
      "dense_3 (Dense)              (None, 10)                1290      \n",
      "=================================================================\n",
      "Total params: 101,770\n",
      "Trainable params: 101,770\n",
      "Non-trainable params: 0\n",
      "_________________________________________________________________\n",
      "Training...\n",
      "Train on 48000 samples, validate on 12000 samples\n",
      "Epoch 1/3\n",
      "48000/48000 [==============================] - 5s 108us/sample - loss: 0.3250 - accuracy: 0.9047 - val_loss: 0.1578 - val_accuracy: 0.9563\n",
      "Epoch 2/3\n",
      "48000/48000 [==============================] - 5s 100us/sample - loss: 0.1605 - accuracy: 0.9529 - val_loss: 0.1183 - val_accuracy: 0.9647\n",
      "Epoch 3/3\n",
      "48000/48000 [==============================] - 5s 100us/sample - loss: 0.1192 - accuracy: 0.9651 - val_loss: 0.1055 - val_accuracy: 0.9681\n",
      "Test accuracy:  0.9705\n"
     ]
    }
   ],
   "source": [
    "from __future__ import absolute_import, division, print_function, unicode_literals\n",
    "import argparse\n",
    "import json\n",
    "from tensorflow.python.lib.io import file_io\n",
    "\n",
    "# origin fairing code\n",
    "import tensorflow as tf\n",
    "import os\n",
    "    \n",
    "print(\"TensorFlow version: \", tf.__version__)\n",
    "\n",
    "mnist = tf.keras.datasets.mnist\n",
    "\n",
    "(x_train, y_train), (x_test, y_test) = mnist.load_data()   # data download\n",
    "x_train, x_test = x_train / 255.0, x_test / 255.0          # data 표준화\n",
    "\n",
    "                                                           # deep learning layer 구성\n",
    "model = tf.keras.models.Sequential([\n",
    "    tf.keras.layers.Flatten(input_shape=(28, 28)),\n",
    "    tf.keras.layers.Dense(128, activation='relu'),\n",
    "    tf.keras.layers.Dropout(0.2),\n",
    "    tf.keras.layers.Dense(10, activation='softmax')\n",
    "])\n",
    "model.compile(optimizer='adam',\n",
    "              loss='sparse_categorical_crossentropy',\n",
    "              metrics=['accuracy'])\n",
    "model.summary()\n",
    "\n",
    "print(\"Training...\")\n",
    "    \n",
    "model.fit(x_train, y_train, epochs=3, validation_split=0.2)         # training , epoch change\n",
    "    \n",
    "score = model.evaluate(x_test, y_test, batch_size=128, verbose=0)   # evaluate\n",
    "print('Test accuracy: ', score[1])"
   ]
  },
  {
   "cell_type": "code",
   "execution_count": null,
   "metadata": {},
   "outputs": [],
   "source": []
  }
 ],
 "metadata": {
  "kernelspec": {
   "display_name": "Python 3",
   "language": "python",
   "name": "python3"
  },
  "language_info": {
   "codemirror_mode": {
    "name": "ipython",
    "version": 3
   },
   "file_extension": ".py",
   "mimetype": "text/x-python",
   "name": "python",
   "nbconvert_exporter": "python",
   "pygments_lexer": "ipython3",
   "version": "3.6.8"
  }
 },
 "nbformat": 4,
 "nbformat_minor": 4
}
